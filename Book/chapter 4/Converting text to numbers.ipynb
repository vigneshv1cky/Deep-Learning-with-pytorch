{
 "cells": [
  {
   "cell_type": "code",
   "execution_count": 2,
   "metadata": {},
   "outputs": [],
   "source": [
    "import torch\n",
    "import torch.nn as nn\n"
   ]
  },
  {
   "cell_type": "code",
   "execution_count": 4,
   "metadata": {},
   "outputs": [
    {
     "name": "stdout",
     "output_type": "stream",
     "text": [
      "h\n",
      "e\n",
      "l\n",
      "l\n",
      "o\n"
     ]
    }
   ],
   "source": [
    "\n",
    "###############################\n",
    "# 1. One-hot encoding characters\n",
    "###############################\n",
    "text = \"hello\"\n",
    "\n",
    "# Create a sorted set of unique characters\n",
    "chars = sorted(list(set(text)))\n",
    "char_to_idx = {char: idx for idx, char in enumerate(chars)}\n",
    "idx_to_char = {idx: char for char, idx in char_to_idx.items()}\n",
    "\n",
    "vocab_size_chars = len(chars)\n",
    "# Build one-hot encoded vectors using an identity matrix\n",
    "one_hot_chars = []\n",
    "for char in text:\n",
    "    print(char)\n",
    "    idx = char_to_idx[char]\n",
    "    one_hot = torch.eye(vocab_size_chars)[idx]\n",
    "    one_hot_chars.append(one_hot)\n",
    "\n"
   ]
  },
  {
   "cell_type": "code",
   "execution_count": 5,
   "metadata": {},
   "outputs": [
    {
     "name": "stdout",
     "output_type": "stream",
     "text": [
      "One-hot encoding for characters:\n",
      "tensor([[0., 1., 0., 0.],\n",
      "        [1., 0., 0., 0.],\n",
      "        [0., 0., 1., 0.],\n",
      "        [0., 0., 1., 0.],\n",
      "        [0., 0., 0., 1.]])\n"
     ]
    }
   ],
   "source": [
    "one_hot_chars = torch.stack(one_hot_chars)\n",
    "print(\"One-hot encoding for characters:\")\n",
    "print(one_hot_chars)"
   ]
  },
  {
   "cell_type": "code",
   "execution_count": 18,
   "metadata": {},
   "outputs": [
    {
     "name": "stdout",
     "output_type": "stream",
     "text": [
      "['a', 'is', 'only', 'test', 'this']\n",
      "--------------------------------------------------\n",
      "{'a': 0, 'is': 1, 'only': 2, 'test': 3, 'this': 4}\n",
      "--------------------------------------------------\n",
      "{0: 'a', 1: 'is', 2: 'only', 3: 'test', 4: 'this'}\n",
      "--------------------------------------------------\n",
      "5\n",
      "--------------------------------------------------\n",
      "\n",
      "One-hot encoding for words:\n",
      "tensor([[0., 0., 0., 0., 1.],\n",
      "        [0., 1., 0., 0., 0.],\n",
      "        [1., 0., 0., 0., 0.],\n",
      "        [0., 0., 0., 1., 0.],\n",
      "        [0., 0., 0., 0., 1.],\n",
      "        [0., 1., 0., 0., 0.],\n",
      "        [0., 0., 1., 0., 0.],\n",
      "        [1., 0., 0., 0., 0.],\n",
      "        [0., 0., 0., 1., 0.]])\n"
     ]
    }
   ],
   "source": [
    "\n",
    "####################################\n",
    "# 2. One-hot encoding whole words\n",
    "####################################\n",
    "sentence = \"this is a test this is only a test\"\n",
    "words = sentence.split()  # tokenize the sentence by whitespace\n",
    "\n",
    "# Create a sorted set of unique words\n",
    "unique_words = sorted(list(set(words)))\n",
    "print(unique_words)\n",
    "print(\"-\"*50)\n",
    "\n",
    "word_to_idx = {word: idx for idx, word in enumerate(unique_words)}\n",
    "print(word_to_idx)\n",
    "print(\"-\"*50)\n",
    "\n",
    "idx_to_word = {idx: word for word, idx in word_to_idx.items()}\n",
    "print(idx_to_word)\n",
    "print(\"-\"*50)\n",
    "\n",
    "vocab_size_words = len(unique_words)\n",
    "print(vocab_size_words)\n",
    "print(\"-\"*50)\n",
    "\n",
    "one_hot_words = []\n",
    "for word in words:\n",
    "    idx = word_to_idx[word]\n",
    "    one_hot = torch.eye(vocab_size_words)[idx]\n",
    "    one_hot_words.append(one_hot)\n",
    "\n",
    "one_hot_words = torch.stack(one_hot_words)\n",
    "print(\"\\nOne-hot encoding for words:\")\n",
    "print(one_hot_words)"
   ]
  },
  {
   "cell_type": "code",
   "execution_count": 8,
   "metadata": {},
   "outputs": [
    {
     "data": {
      "text/plain": [
       "['a', 'is', 'only', 'test', 'this']"
      ]
     },
     "execution_count": 8,
     "metadata": {},
     "output_type": "execute_result"
    }
   ],
   "source": [
    "unique_words"
   ]
  },
  {
   "cell_type": "code",
   "execution_count": null,
   "metadata": {},
   "outputs": [],
   "source": []
  }
 ],
 "metadata": {
  "kernelspec": {
   "display_name": "DSA_5900",
   "language": "python",
   "name": "python3"
  },
  "language_info": {
   "codemirror_mode": {
    "name": "ipython",
    "version": 3
   },
   "file_extension": ".py",
   "mimetype": "text/x-python",
   "name": "python",
   "nbconvert_exporter": "python",
   "pygments_lexer": "ipython3",
   "version": "3.9.21"
  }
 },
 "nbformat": 4,
 "nbformat_minor": 2
}
